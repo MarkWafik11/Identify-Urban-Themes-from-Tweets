{
 "cells": [
  {
   "cell_type": "code",
   "execution_count": 1,
   "id": "62134732",
   "metadata": {},
   "outputs": [
    {
     "name": "stdout",
     "output_type": "stream",
     "text": [
      "[+] Auto-filled config with all values\n",
      "[+] Saved config\n",
      "config.cfg\n",
      "You can now add your data and train your pipeline:\n",
      "python -m spacy train config.cfg --paths.train ./train.spacy --paths.dev ./dev.spacy\n"
     ]
    }
   ],
   "source": [
    "!python -m spacy init fill-config base_config.cfg config.cfg"
   ]
  },
  {
   "cell_type": "code",
   "execution_count": 212,
   "id": "6198cdf0",
   "metadata": {},
   "outputs": [
    {
     "name": "stdout",
     "output_type": "stream",
     "text": [
      "[i] Saving to output directory: output"
     ]
    },
    {
     "name": "stderr",
     "output_type": "stream",
     "text": [
      "[2022-04-13 21:12:58,441] [INFO] Set up nlp object from config\n",
      "[2022-04-13 21:12:58,449] [INFO] Pipeline: ['tok2vec', 'ner']\n",
      "[2022-04-13 21:12:58,452] [INFO] Created vocabulary\n",
      "[2022-04-13 21:12:58,488] [INFO] Finished initializing nlp object\n",
      "[2022-04-13 21:12:58,790] [INFO] Initialized pipeline components: ['tok2vec', 'ner']\n"
     ]
    },
    {
     "name": "stdout",
     "output_type": "stream",
     "text": [
      "\n",
      "[i] Using CPU\n",
      "\u001b[1m\n",
      "=========================== Initializing pipeline ===========================\u001b[0m\n",
      "[+] Initialized pipeline\n",
      "\u001b[1m\n",
      "============================= Training pipeline =============================\u001b[0m\n",
      "[i] Pipeline: ['tok2vec', 'ner']\n",
      "[i] Initial learn rate: 0.001\n",
      "E    #       LOSS TOK2VEC  LOSS NER  ENTS_F  ENTS_P  ENTS_R  SCORE \n",
      "---  ------  ------------  --------  ------  ------  ------  ------\n",
      "  0       0          0.00     31.83    0.00    0.00    0.00    0.00\n",
      " 25     200          8.86    890.60  100.00  100.00  100.00    1.00\n",
      " 56     400          0.00      0.00  100.00  100.00  100.00    1.00\n",
      " 94     600          0.00      0.00  100.00  100.00  100.00    1.00\n",
      "141     800          0.00      0.00  100.00  100.00  100.00    1.00\n",
      "197    1000          0.00      0.00  100.00  100.00  100.00    1.00\n",
      "264    1200          0.00      0.00  100.00  100.00  100.00    1.00\n",
      "350    1400          0.00      0.00  100.00  100.00  100.00    1.00\n",
      "450    1600          0.00      0.00  100.00  100.00  100.00    1.00\n",
      "550    1800          0.00      0.00  100.00  100.00  100.00    1.00\n",
      "[+] Saved pipeline to output directory\n",
      "output\\model-last\n"
     ]
    }
   ],
   "source": [
    " !python -m spacy train config.cfg --output ./output  --paths.train ./train.spacy --paths.dev ./train.spacy"
   ]
  },
  {
   "cell_type": "code",
   "execution_count": 2,
   "id": "2af34987",
   "metadata": {},
   "outputs": [],
   "source": [
    "import spacy\n",
    "nlp = spacy.load(\"output/model-last/\") #load the model"
   ]
  },
  {
   "cell_type": "code",
   "execution_count": 8,
   "id": "dab950a8",
   "metadata": {},
   "outputs": [
    {
     "data": {
      "text/html": [
       "<span class=\"tex2jax_ignore\"><div class=\"entities\" style=\"line-height: 2.5; direction: ltr\">I have stucked in \n",
       "<mark class=\"entity\" style=\"background: #ddd; padding: 0.45em 0.6em; margin: 0 0.25em; line-height: 1; border-radius: 0.35em;\">\n",
       "    traffic jam\n",
       "    <span style=\"font-size: 0.8em; font-weight: bold; line-height: 1; border-radius: 0.35em; vertical-align: middle; margin-left: 0.5rem\">Traffic</span>\n",
       "</mark>\n",
       " for 3 hours</div></span>"
      ],
      "text/plain": [
       "<IPython.core.display.HTML object>"
      ]
     },
     "metadata": {},
     "output_type": "display_data"
    }
   ],
   "source": [
    "sentence = 'I have stucked in traffic jam for 3 hours'\n",
    "doc = nlp(sentence)\n",
    "\n",
    "from spacy import displacy\n",
    "displacy.render(doc, style=\"ent\", jupyter=True)"
   ]
  },
  {
   "cell_type": "code",
   "execution_count": null,
   "id": "f991d52c",
   "metadata": {},
   "outputs": [],
   "source": [
    "import spacy\n",
    "from spacy.scorer import Scorer\n",
    "from spacy.tokens import Doc\n",
    "from spacy.training.example import Example\n",
    "\n",
    "examples = [\n",
    "    (\"Boston and a handful of other US cities are piloting free bus services in poor areas. If we are serious about climate justice and racial equity and mobility, then removing barriers to public transportation would be a major step forward. \",{\"entities\":[(184,205,\"Urban Theme\")]}),\n",
    "    (\"TRAFFICC: A167 Stamfordham Road (Westbound) from B1305 Two Ball Lonnen to A1 J76 is 8 min.\",{\"entities\":[(0,10,\"Urban Theme\")]}),\n",
    "]\n",
    "\n",
    "def evaluate(ner_model, examples):\n",
    "    scorer = Scorer()\n",
    "    example = []\n",
    "    for input_, annot in examples:\n",
    "        pred = ner_model(input_)\n",
    "        print(pred,annot)\n",
    "        temp = Example.from_dict(pred, dict.fromkeys(annot))\n",
    "        example.append(temp)\n",
    "    scores = scorer.score(example)\n",
    "    return scoresresults = evaluate(nlp, examples)\n",
    "print(results)"
   ]
  },
  {
   "cell_type": "code",
   "execution_count": 250,
   "id": "6bb0aafa",
   "metadata": {},
   "outputs": [],
   "source": []
  },
  {
   "cell_type": "code",
   "execution_count": null,
   "id": "64b9068a",
   "metadata": {},
   "outputs": [],
   "source": []
  }
 ],
 "metadata": {
  "kernelspec": {
   "display_name": "Python 3 (ipykernel)",
   "language": "python",
   "name": "python3"
  },
  "language_info": {
   "codemirror_mode": {
    "name": "ipython",
    "version": 3
   },
   "file_extension": ".py",
   "mimetype": "text/x-python",
   "name": "python",
   "nbconvert_exporter": "python",
   "pygments_lexer": "ipython3",
   "version": "3.9.7"
  }
 },
 "nbformat": 4,
 "nbformat_minor": 5
}
