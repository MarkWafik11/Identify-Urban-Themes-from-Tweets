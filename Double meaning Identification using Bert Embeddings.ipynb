{
  "cells": [
    {
      "cell_type": "markdown",
      "metadata": {
        "id": "El1iz6fT7vl6"
      },
      "source": [
        "# Identifying meanings using BERT\n"
      ]
    },
    {
      "cell_type": "markdown",
      "metadata": {
        "id": "RAfeBLY-FCAO"
      },
      "source": [
        "Import python resources"
      ]
    },
    {
      "cell_type": "code",
      "execution_count": 1,
      "metadata": {
        "colab": {
          "base_uri": "https://localhost:8080/",
          "height": 835
        },
        "id": "V4re6bbpEqE_",
        "outputId": "8260c5bf-d684-4e07-a68e-5828774184ca"
      },
      "outputs": [
        {
          "output_type": "stream",
          "name": "stdout",
          "text": [
            "Looking in indexes: https://pypi.org/simple, https://us-python.pkg.dev/colab-wheels/public/simple/\n",
            "Collecting git+https://github.com/negedng/bert-embedding\n",
            "  Cloning https://github.com/negedng/bert-embedding to /tmp/pip-req-build-jl3qtiov\n",
            "  Running command git clone -q https://github.com/negedng/bert-embedding /tmp/pip-req-build-jl3qtiov\n",
            "Collecting typing>=3.6.6\n",
            "  Downloading typing-3.7.4.3.tar.gz (78 kB)\n",
            "\u001b[K     |████████████████████████████████| 78 kB 6.0 MB/s \n",
            "\u001b[?25hRequirement already satisfied: numpy>=1.14.6 in /usr/local/lib/python3.7/dist-packages (from bert-embedding==1.0.1) (1.21.6)\n",
            "Collecting mxnet>=1.4.0\n",
            "  Downloading mxnet-1.9.1-py3-none-manylinux2014_x86_64.whl (49.1 MB)\n",
            "\u001b[K     |████████████████████████████████| 49.1 MB 1.2 MB/s \n",
            "\u001b[?25hCollecting gluonnlp>=0.6.0\n",
            "  Downloading gluonnlp-0.10.0.tar.gz (344 kB)\n",
            "\u001b[K     |████████████████████████████████| 344 kB 64.6 MB/s \n",
            "\u001b[?25hRequirement already satisfied: cython in /usr/local/lib/python3.7/dist-packages (from gluonnlp>=0.6.0->bert-embedding==1.0.1) (0.29.30)\n",
            "Requirement already satisfied: packaging in /usr/local/lib/python3.7/dist-packages (from gluonnlp>=0.6.0->bert-embedding==1.0.1) (21.3)\n",
            "Requirement already satisfied: requests<3,>=2.20.0 in /usr/local/lib/python3.7/dist-packages (from mxnet>=1.4.0->bert-embedding==1.0.1) (2.23.0)\n",
            "Collecting graphviz<0.9.0,>=0.8.1\n",
            "  Downloading graphviz-0.8.4-py2.py3-none-any.whl (16 kB)\n",
            "Requirement already satisfied: idna<3,>=2.5 in /usr/local/lib/python3.7/dist-packages (from requests<3,>=2.20.0->mxnet>=1.4.0->bert-embedding==1.0.1) (2.10)\n",
            "Requirement already satisfied: urllib3!=1.25.0,!=1.25.1,<1.26,>=1.21.1 in /usr/local/lib/python3.7/dist-packages (from requests<3,>=2.20.0->mxnet>=1.4.0->bert-embedding==1.0.1) (1.24.3)\n",
            "Requirement already satisfied: certifi>=2017.4.17 in /usr/local/lib/python3.7/dist-packages (from requests<3,>=2.20.0->mxnet>=1.4.0->bert-embedding==1.0.1) (2022.5.18.1)\n",
            "Requirement already satisfied: chardet<4,>=3.0.2 in /usr/local/lib/python3.7/dist-packages (from requests<3,>=2.20.0->mxnet>=1.4.0->bert-embedding==1.0.1) (3.0.4)\n",
            "Requirement already satisfied: pyparsing!=3.0.5,>=2.0.2 in /usr/local/lib/python3.7/dist-packages (from packaging->gluonnlp>=0.6.0->bert-embedding==1.0.1) (3.0.9)\n",
            "Building wheels for collected packages: bert-embedding, gluonnlp, typing\n",
            "  Building wheel for bert-embedding (setup.py) ... \u001b[?25l\u001b[?25hdone\n",
            "  Created wheel for bert-embedding: filename=bert_embedding-1.0.1-py3-none-any.whl size=13269 sha256=8c741a35db8bd76e13c979274857c6e37024944df5894a6214cafee1e9c0f9a0\n",
            "  Stored in directory: /tmp/pip-ephem-wheel-cache-_jsqyxlc/wheels/5f/2f/02/a013bf151ace206bf43b23605f1708f72ac1d33a6f2ec90219\n",
            "  Building wheel for gluonnlp (setup.py) ... \u001b[?25l\u001b[?25hdone\n",
            "  Created wheel for gluonnlp: filename=gluonnlp-0.10.0-cp37-cp37m-linux_x86_64.whl size=595732 sha256=5fffedba6a8b8c043a5ae99b691c977725229e03d142f1a3cb711df93432051f\n",
            "  Stored in directory: /root/.cache/pip/wheels/be/b4/06/7f3fdfaf707e6b5e98b79c041e023acffbe395d78a527eae00\n",
            "  Building wheel for typing (setup.py) ... \u001b[?25l\u001b[?25hdone\n",
            "  Created wheel for typing: filename=typing-3.7.4.3-py3-none-any.whl size=26325 sha256=574bb7fdcc119a87bbde8f37fb84420e14791fcfe90c4656db247c4a481489ae\n",
            "  Stored in directory: /root/.cache/pip/wheels/35/f3/15/01aa6571f0a72ee6ae7b827c1491c37a1f72d686fd22b43b0e\n",
            "Successfully built bert-embedding gluonnlp typing\n",
            "Installing collected packages: graphviz, typing, mxnet, gluonnlp, bert-embedding\n",
            "  Attempting uninstall: graphviz\n",
            "    Found existing installation: graphviz 0.10.1\n",
            "    Uninstalling graphviz-0.10.1:\n",
            "      Successfully uninstalled graphviz-0.10.1\n",
            "Successfully installed bert-embedding-1.0.1 gluonnlp-0.10.0 graphviz-0.8.4 mxnet-1.9.1 typing-3.7.4.3\n"
          ]
        },
        {
          "output_type": "display_data",
          "data": {
            "application/vnd.colab-display-data+json": {
              "pip_warning": {
                "packages": [
                  "typing"
                ]
              }
            }
          },
          "metadata": {}
        }
      ],
      "source": [
        "import pandas as pd\n",
        "import numpy as np\n",
        "!pip install  git+https://github.com/negedng/bert-embedding\n",
        "from sklearn.decomposition import PCA\n",
        "from sklearn.neighbors import KNeighborsClassifier\n",
        "from sklearn.model_selection import LeaveOneOut\n",
        "from sklearn import model_selection\n",
        "import matplotlib.pyplot as plt\n",
        "%matplotlib inline\n"
      ]
    },
    {
      "cell_type": "markdown",
      "metadata": {
        "id": "oKEMfVfzFHRo"
      },
      "source": [
        "Load The training Dataset"
      ]
    },
    {
      "cell_type": "code",
      "execution_count": 2,
      "metadata": {
        "colab": {
          "base_uri": "https://localhost:8080/",
          "height": 1000
        },
        "id": "Uo5eAFGVExF_",
        "outputId": "ca1c20ae-5149-44d6-cb2f-7e05d96f044a"
      },
      "outputs": [
        {
          "output_type": "execute_result",
          "data": {
            "text/plain": [
              "                                             Sentence  Type\n",
              "0   never again are you going to have hassles gett...     1\n",
              "1   everyone is hunting everywhere for website tra...     1\n",
              "2   have you been currently needing more website t...     1\n",
              "3   we understand how to get targeted traffic and ...     1\n",
              "4   really great news is the fact i can show you h...     1\n",
              "5   proven methods to initiate almost endless pros...     1\n",
              "6   practically never again are you going to exper...     1\n",
              "7   the most convenient strategy to mend your own ...     1\n",
              "8   i want to share with you great options that wo...     1\n",
              "9   how to search for tremendous web site traffic ...     1\n",
              "10  brilliant people who run businesses will like ...     1\n",
              "11  you might be trying to obtain web site traffic...     1\n",
              "12  the good news is the fact that i am about to e...     1\n",
              "13  got movie traffic want to make some money stae...     1\n",
              "14  plumbers websites tend to be small and poorly ...     1\n",
              "15  the great thing is i can present to you the wa...     1\n",
              "16  the following site traffic method is the main ...     1\n",
              "17  the best way to repair your current lead defic...     1\n",
              "18  website traffic technology strategies using so...     1\n",
              "19          oh i thought he was in air traffic contro     1\n",
              "20  you can be losing numerous targeted traffic fo...     1\n",
              "21  we know there is a huge amount of traffic via ...     1\n",
              "22  monetize your movie site traffic and maximize ...     1\n",
              "23  a live updates as crash causes road to close a...     0\n",
              "24  i was meant to go with roger moore but he's st...     0\n",
              "25  motorway driving usually brings little joy but...     0\n",
              "26  traffic has been stopped on the  nohbound betw...     0\n",
              "27  temporary traffic lights by blandford road are...     0\n",
              "28   walking really hus i'm very nervous of cyclin...     0\n",
              "29   southbound at pyecombe queuing traffic continues     0\n",
              "30      The snow had a predictable effect on traffic.     0\n",
              "31      The aim is to reduce traffic at peak periods.     0\n",
              "32   Roadworks have caused traffic jams throughout...     0\n",
              "33  Traffic in the city was interrupted by a snows...     0\n",
              "34  Parking near the school causes severe traffic ...     0\n",
              "35        He ran across the road, dodging the traffic     0\n",
              "36              Turn right at the first traffic light     0\n",
              "37         Traffic is very heavy during the rush hour     0\n",
              "38  A serious road accident caused traffic chaos y...     0\n",
              "39  emergency roadworks halt traffic ahead of leic...     0\n",
              "40  too much traffic in tower hamlets increase cos...     0\n",
              "41  for all your movie music game and ebook traffi...     2\n",
              "42  a uxbridge road (all directions) - the southal...     0\n",
              "43  next a box site in malden on the kingston bypa...     0\n",
              "44         traffic is very heavy during the rush hour     0\n",
              "45  a priory road (n) (all directions) at the junc...     0\n",
              "46   there is always more air traffic (flights) du...     1\n",
              "47  a bridge street (swa) (all directions) at the ...     0"
            ],
            "text/html": [
              "\n",
              "  <div id=\"df-104010cf-7482-4009-992b-875c08c9efe6\">\n",
              "    <div class=\"colab-df-container\">\n",
              "      <div>\n",
              "<style scoped>\n",
              "    .dataframe tbody tr th:only-of-type {\n",
              "        vertical-align: middle;\n",
              "    }\n",
              "\n",
              "    .dataframe tbody tr th {\n",
              "        vertical-align: top;\n",
              "    }\n",
              "\n",
              "    .dataframe thead th {\n",
              "        text-align: right;\n",
              "    }\n",
              "</style>\n",
              "<table border=\"1\" class=\"dataframe\">\n",
              "  <thead>\n",
              "    <tr style=\"text-align: right;\">\n",
              "      <th></th>\n",
              "      <th>Sentence</th>\n",
              "      <th>Type</th>\n",
              "    </tr>\n",
              "  </thead>\n",
              "  <tbody>\n",
              "    <tr>\n",
              "      <th>0</th>\n",
              "      <td>never again are you going to have hassles gett...</td>\n",
              "      <td>1</td>\n",
              "    </tr>\n",
              "    <tr>\n",
              "      <th>1</th>\n",
              "      <td>everyone is hunting everywhere for website tra...</td>\n",
              "      <td>1</td>\n",
              "    </tr>\n",
              "    <tr>\n",
              "      <th>2</th>\n",
              "      <td>have you been currently needing more website t...</td>\n",
              "      <td>1</td>\n",
              "    </tr>\n",
              "    <tr>\n",
              "      <th>3</th>\n",
              "      <td>we understand how to get targeted traffic and ...</td>\n",
              "      <td>1</td>\n",
              "    </tr>\n",
              "    <tr>\n",
              "      <th>4</th>\n",
              "      <td>really great news is the fact i can show you h...</td>\n",
              "      <td>1</td>\n",
              "    </tr>\n",
              "    <tr>\n",
              "      <th>5</th>\n",
              "      <td>proven methods to initiate almost endless pros...</td>\n",
              "      <td>1</td>\n",
              "    </tr>\n",
              "    <tr>\n",
              "      <th>6</th>\n",
              "      <td>practically never again are you going to exper...</td>\n",
              "      <td>1</td>\n",
              "    </tr>\n",
              "    <tr>\n",
              "      <th>7</th>\n",
              "      <td>the most convenient strategy to mend your own ...</td>\n",
              "      <td>1</td>\n",
              "    </tr>\n",
              "    <tr>\n",
              "      <th>8</th>\n",
              "      <td>i want to share with you great options that wo...</td>\n",
              "      <td>1</td>\n",
              "    </tr>\n",
              "    <tr>\n",
              "      <th>9</th>\n",
              "      <td>how to search for tremendous web site traffic ...</td>\n",
              "      <td>1</td>\n",
              "    </tr>\n",
              "    <tr>\n",
              "      <th>10</th>\n",
              "      <td>brilliant people who run businesses will like ...</td>\n",
              "      <td>1</td>\n",
              "    </tr>\n",
              "    <tr>\n",
              "      <th>11</th>\n",
              "      <td>you might be trying to obtain web site traffic...</td>\n",
              "      <td>1</td>\n",
              "    </tr>\n",
              "    <tr>\n",
              "      <th>12</th>\n",
              "      <td>the good news is the fact that i am about to e...</td>\n",
              "      <td>1</td>\n",
              "    </tr>\n",
              "    <tr>\n",
              "      <th>13</th>\n",
              "      <td>got movie traffic want to make some money stae...</td>\n",
              "      <td>1</td>\n",
              "    </tr>\n",
              "    <tr>\n",
              "      <th>14</th>\n",
              "      <td>plumbers websites tend to be small and poorly ...</td>\n",
              "      <td>1</td>\n",
              "    </tr>\n",
              "    <tr>\n",
              "      <th>15</th>\n",
              "      <td>the great thing is i can present to you the wa...</td>\n",
              "      <td>1</td>\n",
              "    </tr>\n",
              "    <tr>\n",
              "      <th>16</th>\n",
              "      <td>the following site traffic method is the main ...</td>\n",
              "      <td>1</td>\n",
              "    </tr>\n",
              "    <tr>\n",
              "      <th>17</th>\n",
              "      <td>the best way to repair your current lead defic...</td>\n",
              "      <td>1</td>\n",
              "    </tr>\n",
              "    <tr>\n",
              "      <th>18</th>\n",
              "      <td>website traffic technology strategies using so...</td>\n",
              "      <td>1</td>\n",
              "    </tr>\n",
              "    <tr>\n",
              "      <th>19</th>\n",
              "      <td>oh i thought he was in air traffic contro</td>\n",
              "      <td>1</td>\n",
              "    </tr>\n",
              "    <tr>\n",
              "      <th>20</th>\n",
              "      <td>you can be losing numerous targeted traffic fo...</td>\n",
              "      <td>1</td>\n",
              "    </tr>\n",
              "    <tr>\n",
              "      <th>21</th>\n",
              "      <td>we know there is a huge amount of traffic via ...</td>\n",
              "      <td>1</td>\n",
              "    </tr>\n",
              "    <tr>\n",
              "      <th>22</th>\n",
              "      <td>monetize your movie site traffic and maximize ...</td>\n",
              "      <td>1</td>\n",
              "    </tr>\n",
              "    <tr>\n",
              "      <th>23</th>\n",
              "      <td>a live updates as crash causes road to close a...</td>\n",
              "      <td>0</td>\n",
              "    </tr>\n",
              "    <tr>\n",
              "      <th>24</th>\n",
              "      <td>i was meant to go with roger moore but he's st...</td>\n",
              "      <td>0</td>\n",
              "    </tr>\n",
              "    <tr>\n",
              "      <th>25</th>\n",
              "      <td>motorway driving usually brings little joy but...</td>\n",
              "      <td>0</td>\n",
              "    </tr>\n",
              "    <tr>\n",
              "      <th>26</th>\n",
              "      <td>traffic has been stopped on the  nohbound betw...</td>\n",
              "      <td>0</td>\n",
              "    </tr>\n",
              "    <tr>\n",
              "      <th>27</th>\n",
              "      <td>temporary traffic lights by blandford road are...</td>\n",
              "      <td>0</td>\n",
              "    </tr>\n",
              "    <tr>\n",
              "      <th>28</th>\n",
              "      <td>walking really hus i'm very nervous of cyclin...</td>\n",
              "      <td>0</td>\n",
              "    </tr>\n",
              "    <tr>\n",
              "      <th>29</th>\n",
              "      <td>southbound at pyecombe queuing traffic continues</td>\n",
              "      <td>0</td>\n",
              "    </tr>\n",
              "    <tr>\n",
              "      <th>30</th>\n",
              "      <td>The snow had a predictable effect on traffic.</td>\n",
              "      <td>0</td>\n",
              "    </tr>\n",
              "    <tr>\n",
              "      <th>31</th>\n",
              "      <td>The aim is to reduce traffic at peak periods.</td>\n",
              "      <td>0</td>\n",
              "    </tr>\n",
              "    <tr>\n",
              "      <th>32</th>\n",
              "      <td>Roadworks have caused traffic jams throughout...</td>\n",
              "      <td>0</td>\n",
              "    </tr>\n",
              "    <tr>\n",
              "      <th>33</th>\n",
              "      <td>Traffic in the city was interrupted by a snows...</td>\n",
              "      <td>0</td>\n",
              "    </tr>\n",
              "    <tr>\n",
              "      <th>34</th>\n",
              "      <td>Parking near the school causes severe traffic ...</td>\n",
              "      <td>0</td>\n",
              "    </tr>\n",
              "    <tr>\n",
              "      <th>35</th>\n",
              "      <td>He ran across the road, dodging the traffic</td>\n",
              "      <td>0</td>\n",
              "    </tr>\n",
              "    <tr>\n",
              "      <th>36</th>\n",
              "      <td>Turn right at the first traffic light</td>\n",
              "      <td>0</td>\n",
              "    </tr>\n",
              "    <tr>\n",
              "      <th>37</th>\n",
              "      <td>Traffic is very heavy during the rush hour</td>\n",
              "      <td>0</td>\n",
              "    </tr>\n",
              "    <tr>\n",
              "      <th>38</th>\n",
              "      <td>A serious road accident caused traffic chaos y...</td>\n",
              "      <td>0</td>\n",
              "    </tr>\n",
              "    <tr>\n",
              "      <th>39</th>\n",
              "      <td>emergency roadworks halt traffic ahead of leic...</td>\n",
              "      <td>0</td>\n",
              "    </tr>\n",
              "    <tr>\n",
              "      <th>40</th>\n",
              "      <td>too much traffic in tower hamlets increase cos...</td>\n",
              "      <td>0</td>\n",
              "    </tr>\n",
              "    <tr>\n",
              "      <th>41</th>\n",
              "      <td>for all your movie music game and ebook traffi...</td>\n",
              "      <td>2</td>\n",
              "    </tr>\n",
              "    <tr>\n",
              "      <th>42</th>\n",
              "      <td>a uxbridge road (all directions) - the southal...</td>\n",
              "      <td>0</td>\n",
              "    </tr>\n",
              "    <tr>\n",
              "      <th>43</th>\n",
              "      <td>next a box site in malden on the kingston bypa...</td>\n",
              "      <td>0</td>\n",
              "    </tr>\n",
              "    <tr>\n",
              "      <th>44</th>\n",
              "      <td>traffic is very heavy during the rush hour</td>\n",
              "      <td>0</td>\n",
              "    </tr>\n",
              "    <tr>\n",
              "      <th>45</th>\n",
              "      <td>a priory road (n) (all directions) at the junc...</td>\n",
              "      <td>0</td>\n",
              "    </tr>\n",
              "    <tr>\n",
              "      <th>46</th>\n",
              "      <td>there is always more air traffic (flights) du...</td>\n",
              "      <td>1</td>\n",
              "    </tr>\n",
              "    <tr>\n",
              "      <th>47</th>\n",
              "      <td>a bridge street (swa) (all directions) at the ...</td>\n",
              "      <td>0</td>\n",
              "    </tr>\n",
              "  </tbody>\n",
              "</table>\n",
              "</div>\n",
              "      <button class=\"colab-df-convert\" onclick=\"convertToInteractive('df-104010cf-7482-4009-992b-875c08c9efe6')\"\n",
              "              title=\"Convert this dataframe to an interactive table.\"\n",
              "              style=\"display:none;\">\n",
              "        \n",
              "  <svg xmlns=\"http://www.w3.org/2000/svg\" height=\"24px\"viewBox=\"0 0 24 24\"\n",
              "       width=\"24px\">\n",
              "    <path d=\"M0 0h24v24H0V0z\" fill=\"none\"/>\n",
              "    <path d=\"M18.56 5.44l.94 2.06.94-2.06 2.06-.94-2.06-.94-.94-2.06-.94 2.06-2.06.94zm-11 1L8.5 8.5l.94-2.06 2.06-.94-2.06-.94L8.5 2.5l-.94 2.06-2.06.94zm10 10l.94 2.06.94-2.06 2.06-.94-2.06-.94-.94-2.06-.94 2.06-2.06.94z\"/><path d=\"M17.41 7.96l-1.37-1.37c-.4-.4-.92-.59-1.43-.59-.52 0-1.04.2-1.43.59L10.3 9.45l-7.72 7.72c-.78.78-.78 2.05 0 2.83L4 21.41c.39.39.9.59 1.41.59.51 0 1.02-.2 1.41-.59l7.78-7.78 2.81-2.81c.8-.78.8-2.07 0-2.86zM5.41 20L4 18.59l7.72-7.72 1.47 1.35L5.41 20z\"/>\n",
              "  </svg>\n",
              "      </button>\n",
              "      \n",
              "  <style>\n",
              "    .colab-df-container {\n",
              "      display:flex;\n",
              "      flex-wrap:wrap;\n",
              "      gap: 12px;\n",
              "    }\n",
              "\n",
              "    .colab-df-convert {\n",
              "      background-color: #E8F0FE;\n",
              "      border: none;\n",
              "      border-radius: 50%;\n",
              "      cursor: pointer;\n",
              "      display: none;\n",
              "      fill: #1967D2;\n",
              "      height: 32px;\n",
              "      padding: 0 0 0 0;\n",
              "      width: 32px;\n",
              "    }\n",
              "\n",
              "    .colab-df-convert:hover {\n",
              "      background-color: #E2EBFA;\n",
              "      box-shadow: 0px 1px 2px rgba(60, 64, 67, 0.3), 0px 1px 3px 1px rgba(60, 64, 67, 0.15);\n",
              "      fill: #174EA6;\n",
              "    }\n",
              "\n",
              "    [theme=dark] .colab-df-convert {\n",
              "      background-color: #3B4455;\n",
              "      fill: #D2E3FC;\n",
              "    }\n",
              "\n",
              "    [theme=dark] .colab-df-convert:hover {\n",
              "      background-color: #434B5C;\n",
              "      box-shadow: 0px 1px 3px 1px rgba(0, 0, 0, 0.15);\n",
              "      filter: drop-shadow(0px 1px 2px rgba(0, 0, 0, 0.3));\n",
              "      fill: #FFFFFF;\n",
              "    }\n",
              "  </style>\n",
              "\n",
              "      <script>\n",
              "        const buttonEl =\n",
              "          document.querySelector('#df-104010cf-7482-4009-992b-875c08c9efe6 button.colab-df-convert');\n",
              "        buttonEl.style.display =\n",
              "          google.colab.kernel.accessAllowed ? 'block' : 'none';\n",
              "\n",
              "        async function convertToInteractive(key) {\n",
              "          const element = document.querySelector('#df-104010cf-7482-4009-992b-875c08c9efe6');\n",
              "          const dataTable =\n",
              "            await google.colab.kernel.invokeFunction('convertToInteractive',\n",
              "                                                     [key], {});\n",
              "          if (!dataTable) return;\n",
              "\n",
              "          const docLinkHtml = 'Like what you see? Visit the ' +\n",
              "            '<a target=\"_blank\" href=https://colab.research.google.com/notebooks/data_table.ipynb>data table notebook</a>'\n",
              "            + ' to learn more about interactive tables.';\n",
              "          element.innerHTML = '';\n",
              "          dataTable['output_type'] = 'display_data';\n",
              "          await google.colab.output.renderOutput(dataTable, element);\n",
              "          const docLink = document.createElement('div');\n",
              "          docLink.innerHTML = docLinkHtml;\n",
              "          element.appendChild(docLink);\n",
              "        }\n",
              "      </script>\n",
              "    </div>\n",
              "  </div>\n",
              "  "
            ]
          },
          "metadata": {},
          "execution_count": 2
        }
      ],
      "source": [
        "df1 = pd.read_csv('Traffic VI D.csv')\n",
        "df1"
      ]
    },
    {
      "cell_type": "code",
      "execution_count": 3,
      "metadata": {
        "colab": {
          "base_uri": "https://localhost:8080/"
        },
        "id": "4NUDw0hNE9PV",
        "outputId": "f6f7ae09-5946-4b3b-b0e5-4945443918a8"
      },
      "outputs": [
        {
          "output_type": "stream",
          "name": "stdout",
          "text": [
            "Looking in indexes: https://pypi.org/simple, https://us-python.pkg.dev/colab-wheels/public/simple/\n",
            "Requirement already satisfied: bert-embedding in /usr/local/lib/python3.7/dist-packages (1.0.1)\n",
            "Requirement already satisfied: gluonnlp>=0.6.0 in /usr/local/lib/python3.7/dist-packages (from bert-embedding) (0.10.0)\n",
            "Requirement already satisfied: mxnet>=1.4.0 in /usr/local/lib/python3.7/dist-packages (from bert-embedding) (1.9.1)\n",
            "Requirement already satisfied: numpy>=1.14.6 in /usr/local/lib/python3.7/dist-packages (from bert-embedding) (1.21.6)\n",
            "Requirement already satisfied: typing>=3.6.6 in /usr/local/lib/python3.7/dist-packages (from bert-embedding) (3.7.4.3)\n",
            "Requirement already satisfied: packaging in /usr/local/lib/python3.7/dist-packages (from gluonnlp>=0.6.0->bert-embedding) (21.3)\n",
            "Requirement already satisfied: cython in /usr/local/lib/python3.7/dist-packages (from gluonnlp>=0.6.0->bert-embedding) (0.29.30)\n",
            "Requirement already satisfied: graphviz<0.9.0,>=0.8.1 in /usr/local/lib/python3.7/dist-packages (from mxnet>=1.4.0->bert-embedding) (0.8.4)\n",
            "Requirement already satisfied: requests<3,>=2.20.0 in /usr/local/lib/python3.7/dist-packages (from mxnet>=1.4.0->bert-embedding) (2.23.0)\n",
            "Requirement already satisfied: urllib3!=1.25.0,!=1.25.1,<1.26,>=1.21.1 in /usr/local/lib/python3.7/dist-packages (from requests<3,>=2.20.0->mxnet>=1.4.0->bert-embedding) (1.24.3)\n",
            "Requirement already satisfied: certifi>=2017.4.17 in /usr/local/lib/python3.7/dist-packages (from requests<3,>=2.20.0->mxnet>=1.4.0->bert-embedding) (2022.5.18.1)\n",
            "Requirement already satisfied: chardet<4,>=3.0.2 in /usr/local/lib/python3.7/dist-packages (from requests<3,>=2.20.0->mxnet>=1.4.0->bert-embedding) (3.0.4)\n",
            "Requirement already satisfied: idna<3,>=2.5 in /usr/local/lib/python3.7/dist-packages (from requests<3,>=2.20.0->mxnet>=1.4.0->bert-embedding) (2.10)\n",
            "Requirement already satisfied: pyparsing!=3.0.5,>=2.0.2 in /usr/local/lib/python3.7/dist-packages (from packaging->gluonnlp>=0.6.0->bert-embedding) (3.0.9)\n",
            "Vocab file is not found. Downloading.\n",
            "Downloading /root/.mxnet/models/5169103321400345219/5169103321400345219_book_corpus_wiki_en_uncased-a6607397.zip from https://apache-mxnet.s3-accelerate.dualstack.amazonaws.com/gluon/dataset/vocab/book_corpus_wiki_en_uncased-a6607397.zip...\n",
            "Downloading /root/.mxnet/models/bert_12_768_12_book_corpus_wiki_en_uncased-75cc780f.zip32998e26-7409-43be-a2ca-b0fe2ebbfb4b from https://apache-mxnet.s3-accelerate.dualstack.amazonaws.com/gluon/models/bert_12_768_12_book_corpus_wiki_en_uncased-75cc780f.zip...\n"
          ]
        }
      ],
      "source": [
        "! pip install bert-embedding\n",
        "from bert_embedding  import BertEmbedding\n",
        "bert_embedding = BertEmbedding(max_seq_length=50)\n"
      ]
    },
    {
      "cell_type": "markdown",
      "metadata": {
        "id": "N2Mtf0GM35Qx"
      },
      "source": [
        "Generate BERT embedding for every token of every sentence"
      ]
    },
    {
      "cell_type": "code",
      "execution_count": 9,
      "metadata": {
        "id": "sdQmyzDVGEYh"
      },
      "outputs": [],
      "source": [
        "embs = bert_embedding(df1['Sentence'], filter_spec_tokens=False,)"
      ]
    },
    {
      "cell_type": "markdown",
      "metadata": {
        "id": "5A-GLbfY4Bed"
      },
      "source": [
        "Select a word to use the embeddings with"
      ]
    },
    {
      "cell_type": "code",
      "execution_count": 10,
      "metadata": {
        "id": "eyeroYq6G224"
      },
      "outputs": [],
      "source": [
        "word_embs = []\n",
        "for row in embs:\n",
        "    try:\n",
        "        word_index = row[0].index('traffic')\n",
        "        word_embs.append(row[1][word_index])\n",
        "    except ValueError:\n",
        "        print('Skipped')"
      ]
    },
    {
      "cell_type": "code",
      "execution_count": 11,
      "metadata": {
        "colab": {
          "base_uri": "https://localhost:8080/"
        },
        "id": "BuvvM2sTG79-",
        "outputId": "bcc598b3-4233-4b1d-b6dd-fd293ed628e3"
      },
      "outputs": [
        {
          "output_type": "execute_result",
          "data": {
            "text/plain": [
              "(48, 768)"
            ]
          },
          "metadata": {},
          "execution_count": 11
        }
      ],
      "source": [
        "word_embs = np.array(word_embs)\n",
        "word_embs.shape"
      ]
    },
    {
      "cell_type": "markdown",
      "metadata": {
        "id": "wVYuHD0z4fsv"
      },
      "source": [
        "PCA projection to 2D"
      ]
    },
    {
      "cell_type": "code",
      "execution_count": 12,
      "metadata": {
        "colab": {
          "base_uri": "https://localhost:8080/"
        },
        "id": "SgIYuACzRB91",
        "outputId": "45be7f8a-8fa6-42bb-ecaf-134929b32226"
      },
      "outputs": [
        {
          "output_type": "execute_result",
          "data": {
            "text/plain": [
              "(48, 2)"
            ]
          },
          "metadata": {},
          "execution_count": 12
        }
      ],
      "source": [
        "word_pca = PCA(n_components=2).fit_transform(word_embs)\n",
        "word_pca.shape"
      ]
    },
    {
      "cell_type": "markdown",
      "metadata": {
        "id": "SKJ9sc_C4i8W"
      },
      "source": [
        "Plot the results (group to classes)"
      ]
    },
    {
      "cell_type": "code",
      "execution_count": 13,
      "metadata": {
        "colab": {
          "base_uri": "https://localhost:8080/",
          "height": 430
        },
        "id": "tcZmqWVNRiI6",
        "outputId": "224e0f87-c3b6-4534-ad9a-b811287fe3b7"
      },
      "outputs": [
        {
          "output_type": "display_data",
          "data": {
            "text/plain": [
              "<Figure size 720x504 with 1 Axes>"
            ],
            "image/png": "[encoded data removed]"
          },
          "metadata": {
            "needs_background": "light"
          }
        }
      ],
      "source": [
        "cdict = {0: 'red', 1: 'blue', 2: 'green'}\n",
        "markers = {0: 'o', 1: '+', 2: 'v'}\n",
        "labels = {0: 'Syn1', 1: 'syn2', 2: 'syn3'}\n",
        "\n",
        "scatter_x = word_pca[:,0]\n",
        "scatter_y = word_pca[:,1]\n",
        "fig, ax = plt.subplots(figsize=(10, 7))\n",
        "for g in np.unique(df1.Type):\n",
        "    ix = np.where(df1.Type == g)\n",
        "    ax.scatter(scatter_x[ix], scatter_y[ix], c = cdict[g], label = labels[g], s=100, marker=markers[g])\n",
        "ax.legend(prop={'size': 12})\n",
        "plt.show()"
      ]
    },
    {
      "cell_type": "markdown",
      "metadata": {
        "id": "NhFk1URs7fem"
      },
      "source": [
        "Evaluate a k-NN (k-Nearest Neighbour Classifier) model with LOOCV (Leave One Out Cross-Validation)"
      ]
    },
    {
      "cell_type": "code",
      "execution_count": 14,
      "metadata": {
        "id": "51S5Bl6DRkSa"
      },
      "outputs": [],
      "source": [
        "loocv = model_selection.LeaveOneOut()\n",
        "model = KNeighborsClassifier(n_neighbors=8)\n",
        "results = model_selection.cross_val_score(model, word_embs, df1.Type, cv=loocv)"
      ]
    },
    {
      "cell_type": "code",
      "execution_count": 15,
      "metadata": {
        "colab": {
          "base_uri": "https://localhost:8080/"
        },
        "id": "gIbC_hzB5M-D",
        "outputId": "f4481cfc-1244-4ad9-9e92-3b8620fb8bff"
      },
      "outputs": [
        {
          "output_type": "execute_result",
          "data": {
            "text/plain": [
              "KNeighborsClassifier(n_neighbors=8)"
            ]
          },
          "metadata": {},
          "execution_count": 15
        }
      ],
      "source": [
        "model.fit(word_embs,df1.Type)\n"
      ]
    },
    {
      "cell_type": "code",
      "execution_count": 25,
      "metadata": {
        "id": "Oo3Rq9YyReQT"
      },
      "outputs": [],
      "source": [
        "def take_embs(embs):\n",
        "  test_embs = []\n",
        "  for row in embs:\n",
        "      try:\n",
        "          test_index = row[0].index('traffic') # change the word \n",
        "          test_embs.append(row[1][test_index])\n",
        "      except ValueError:\n",
        "          print(\"Skipped\")\n",
        "  return test_embs       "
      ]
    },
    {
      "cell_type": "code",
      "execution_count": 17,
      "metadata": {
        "id": "Fnj-1W3sq1OA"
      },
      "outputs": [],
      "source": [
        "def pipeline(rawdata):\n",
        "  try:\n",
        "    a_list=[]\n",
        "    a_list.insert(0,rawdata)\n",
        "    data = bert_embedding(a_list, filter_spec_tokens=False,)\n",
        "    data = take_embs(data)\n",
        "    processed_data = model.predict(data)\n",
        "    return processed_data[0]\n",
        "  except ValueError:\n",
        "      return 2\n",
        "\n",
        "  "
      ]
    },
    {
      "cell_type": "code",
      "execution_count": 28,
      "metadata": {
        "colab": {
          "base_uri": "https://localhost:8080/"
        },
        "id": "LBjSHlwltdwH",
        "outputId": "3fc81f80-165a-400b-cc20-6dfde9b56101"
      },
      "outputs": [
        {
          "output_type": "execute_result",
          "data": {
            "text/plain": [
              "0"
            ]
          },
          "metadata": {},
          "execution_count": 28
        }
      ],
      "source": [
        "pipeline(\"I have stucked in traffic\")\n"
      ]
    },
    {
      "cell_type": "code",
      "source": [
        "pipeline(\"Social Media traffic\")"
      ],
      "metadata": {
        "colab": {
          "base_uri": "https://localhost:8080/"
        },
        "id": "8gWqaIOHi8MS",
        "outputId": "d2ea8e0f-0794-4098-e1da-38b3855f93e1"
      },
      "execution_count": 27,
      "outputs": [
        {
          "output_type": "execute_result",
          "data": {
            "text/plain": [
              "1"
            ]
          },
          "metadata": {},
          "execution_count": 27
        }
      ]
    }
  ],
  "metadata": {
    "accelerator": "GPU",
    "colab": {
      "name": "Ducks (2).ipynb",
      "provenance": []
    },
    "kernelspec": {
      "display_name": "Python 3",
      "name": "python3"
    }
  },
  "nbformat": 4,
  "nbformat_minor": 0
}